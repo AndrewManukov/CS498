{
 "cells": [
  {
   "cell_type": "markdown",
   "metadata": {},
   "source": [
    "# Spring 2020 CS 498 DSU\n",
    "## MP1: Autonomous Vehicles\n",
    "#### Authors: Samuel Chyu (Schyu2), Andro Manukov (Manukov2), First Last (NetID)"
   ]
  },
  {
   "cell_type": "markdown",
   "metadata": {},
   "source": [
    "## Task 0 \n",
    "\n",
    "### 1) Import Dataset into Jupyter Notebook"
   ]
  },
  {
   "cell_type": "code",
   "execution_count": 1,
   "metadata": {},
   "outputs": [],
   "source": [
    "import pandas as pd #importing pandas"
   ]
  },
  {
   "cell_type": "code",
   "execution_count": 2,
   "metadata": {},
   "outputs": [],
   "source": [
    "totalmiles_df = pd.read_csv(\"mp1_av_totalmiles.csv\") #importing the dataset"
   ]
  },
  {
   "cell_type": "code",
   "execution_count": 39,
   "metadata": {},
   "outputs": [
    {
     "data": {
      "text/html": [
       "<div>\n",
       "<style scoped>\n",
       "    .dataframe tbody tr th:only-of-type {\n",
       "        vertical-align: middle;\n",
       "    }\n",
       "\n",
       "    .dataframe tbody tr th {\n",
       "        vertical-align: top;\n",
       "    }\n",
       "\n",
       "    .dataframe thead th {\n",
       "        text-align: right;\n",
       "    }\n",
       "</style>\n",
       "<table border=\"1\" class=\"dataframe\">\n",
       "  <thead>\n",
       "    <tr style=\"text-align: right;\">\n",
       "      <th></th>\n",
       "      <th>Month</th>\n",
       "      <th>Car</th>\n",
       "      <th>miles driven in autonomous mode</th>\n",
       "      <th>total number of disengagements</th>\n",
       "      <th>number of automatic disengagements</th>\n",
       "      <th>number of manual disengagements</th>\n",
       "      <th>Disengagements/Mile</th>\n",
       "    </tr>\n",
       "  </thead>\n",
       "  <tbody>\n",
       "    <tr>\n",
       "      <td>0</td>\n",
       "      <td>2014-09-01</td>\n",
       "      <td>WDD2221851A001072</td>\n",
       "      <td>4207</td>\n",
       "      <td>44</td>\n",
       "      <td>24</td>\n",
       "      <td>20</td>\n",
       "      <td>0.010459</td>\n",
       "    </tr>\n",
       "    <tr>\n",
       "      <td>1</td>\n",
       "      <td>2014-10-01</td>\n",
       "      <td>WDD2221851A001072</td>\n",
       "      <td>23971</td>\n",
       "      <td>228</td>\n",
       "      <td>100</td>\n",
       "      <td>128</td>\n",
       "      <td>0.009511</td>\n",
       "    </tr>\n",
       "    <tr>\n",
       "      <td>2</td>\n",
       "      <td>2014-11-01</td>\n",
       "      <td>WDD2221851A001072</td>\n",
       "      <td>15837</td>\n",
       "      <td>141</td>\n",
       "      <td>66</td>\n",
       "      <td>75</td>\n",
       "      <td>0.008903</td>\n",
       "    </tr>\n",
       "    <tr>\n",
       "      <td>3</td>\n",
       "      <td>2014-12-01</td>\n",
       "      <td>WDD2221851A001072</td>\n",
       "      <td>9413</td>\n",
       "      <td>36</td>\n",
       "      <td>15</td>\n",
       "      <td>21</td>\n",
       "      <td>0.003824</td>\n",
       "    </tr>\n",
       "    <tr>\n",
       "      <td>4</td>\n",
       "      <td>2015-01-01</td>\n",
       "      <td>WDD2221851A001072</td>\n",
       "      <td>18192</td>\n",
       "      <td>48</td>\n",
       "      <td>18</td>\n",
       "      <td>30</td>\n",
       "      <td>0.002639</td>\n",
       "    </tr>\n",
       "  </tbody>\n",
       "</table>\n",
       "</div>"
      ],
      "text/plain": [
       "       Month                Car  miles driven in autonomous mode  \\\n",
       "0 2014-09-01  WDD2221851A001072                             4207   \n",
       "1 2014-10-01  WDD2221851A001072                            23971   \n",
       "2 2014-11-01  WDD2221851A001072                            15837   \n",
       "3 2014-12-01  WDD2221851A001072                             9413   \n",
       "4 2015-01-01  WDD2221851A001072                            18192   \n",
       "\n",
       "   total number of disengagements  number of automatic disengagements  \\\n",
       "0                              44                                  24   \n",
       "1                             228                                 100   \n",
       "2                             141                                  66   \n",
       "3                              36                                  15   \n",
       "4                              48                                  18   \n",
       "\n",
       "   number of manual disengagements  Disengagements/Mile  \n",
       "0                               20             0.010459  \n",
       "1                              128             0.009511  \n",
       "2                               75             0.008903  \n",
       "3                               21             0.003824  \n",
       "4                               30             0.002639  "
      ]
     },
     "execution_count": 39,
     "metadata": {},
     "output_type": "execute_result"
    }
   ],
   "source": [
    "totalmiles_df.head()"
   ]
  },
  {
   "cell_type": "code",
   "execution_count": 4,
   "metadata": {},
   "outputs": [],
   "source": [
    "disengagements_df = pd.read_csv(\"mp1_av_disengagements.csv\")"
   ]
  },
  {
   "cell_type": "code",
   "execution_count": 5,
   "metadata": {},
   "outputs": [
    {
     "data": {
      "text/html": [
       "<div>\n",
       "<style scoped>\n",
       "    .dataframe tbody tr th:only-of-type {\n",
       "        vertical-align: middle;\n",
       "    }\n",
       "\n",
       "    .dataframe tbody tr th {\n",
       "        vertical-align: top;\n",
       "    }\n",
       "\n",
       "    .dataframe thead th {\n",
       "        text-align: right;\n",
       "    }\n",
       "</style>\n",
       "<table border=\"1\" class=\"dataframe\">\n",
       "  <thead>\n",
       "    <tr style=\"text-align: right;\">\n",
       "      <th></th>\n",
       "      <th>Month</th>\n",
       "      <th>Car</th>\n",
       "      <th>Location</th>\n",
       "      <th>Weather</th>\n",
       "      <th>TypeOfTrigger</th>\n",
       "      <th>ReactionTime</th>\n",
       "      <th>Cause</th>\n",
       "    </tr>\n",
       "  </thead>\n",
       "  <tbody>\n",
       "    <tr>\n",
       "      <td>0</td>\n",
       "      <td>14-Sep</td>\n",
       "      <td>WDD2221851A001072</td>\n",
       "      <td>urban-street</td>\n",
       "      <td>cloudy</td>\n",
       "      <td>automatic</td>\n",
       "      <td>0.58</td>\n",
       "      <td>Incorrect Traffic Light Detection</td>\n",
       "    </tr>\n",
       "    <tr>\n",
       "      <td>1</td>\n",
       "      <td>14-Sep</td>\n",
       "      <td>WDD2221851A001072</td>\n",
       "      <td>urban-street</td>\n",
       "      <td>cloudy</td>\n",
       "      <td>automatic</td>\n",
       "      <td>0.66</td>\n",
       "      <td>Adverse road surface conditions</td>\n",
       "    </tr>\n",
       "    <tr>\n",
       "      <td>2</td>\n",
       "      <td>14-Sep</td>\n",
       "      <td>WDD2221851A001072</td>\n",
       "      <td>urban-street</td>\n",
       "      <td>cloudy</td>\n",
       "      <td>automatic</td>\n",
       "      <td>1.93</td>\n",
       "      <td>Position Estimation Failure</td>\n",
       "    </tr>\n",
       "    <tr>\n",
       "      <td>3</td>\n",
       "      <td>14-Sep</td>\n",
       "      <td>WDD2221851A001072</td>\n",
       "      <td>urban-street</td>\n",
       "      <td>cloudy</td>\n",
       "      <td>automatic</td>\n",
       "      <td>0.65</td>\n",
       "      <td>Emergency Vehicle</td>\n",
       "    </tr>\n",
       "    <tr>\n",
       "      <td>4</td>\n",
       "      <td>14-Sep</td>\n",
       "      <td>WDD2221851A001072</td>\n",
       "      <td>urban-street</td>\n",
       "      <td>cloudy</td>\n",
       "      <td>automatic</td>\n",
       "      <td>0.64</td>\n",
       "      <td>Adverse road surface conditions</td>\n",
       "    </tr>\n",
       "  </tbody>\n",
       "</table>\n",
       "</div>"
      ],
      "text/plain": [
       "    Month                Car      Location Weather TypeOfTrigger  \\\n",
       "0  14-Sep  WDD2221851A001072  urban-street  cloudy     automatic   \n",
       "1  14-Sep  WDD2221851A001072  urban-street  cloudy     automatic   \n",
       "2  14-Sep  WDD2221851A001072  urban-street  cloudy     automatic   \n",
       "3  14-Sep  WDD2221851A001072  urban-street  cloudy     automatic   \n",
       "4  14-Sep  WDD2221851A001072  urban-street  cloudy     automatic   \n",
       "\n",
       "   ReactionTime                              Cause  \n",
       "0          0.58  Incorrect Traffic Light Detection  \n",
       "1          0.66    Adverse road surface conditions  \n",
       "2          1.93        Position Estimation Failure  \n",
       "3          0.65                  Emergency Vehicle  \n",
       "4          0.64    Adverse road surface conditions  "
      ]
     },
     "execution_count": 5,
     "metadata": {},
     "output_type": "execute_result"
    }
   ],
   "source": [
    "disengagements_df.head()"
   ]
  },
  {
   "cell_type": "markdown",
   "metadata": {},
   "source": [
    "### 2) Summarize Information\n",
    "\n",
    "#### A) Total number of AV disengagements over the entire duration of available data"
   ]
  },
  {
   "cell_type": "code",
   "execution_count": 6,
   "metadata": {},
   "outputs": [
    {
     "data": {
      "text/plain": [
       "1024"
      ]
     },
     "execution_count": 6,
     "metadata": {},
     "output_type": "execute_result"
    }
   ],
   "source": [
    "len(disengagements_df) #the length of the data is the total number of disengagnemtns."
   ]
  },
  {
   "cell_type": "markdown",
   "metadata": {},
   "source": [
    "#### B) Number of unique months that have recorded AV disengagements\n"
   ]
  },
  {
   "cell_type": "code",
   "execution_count": 7,
   "metadata": {},
   "outputs": [
    {
     "data": {
      "text/plain": [
       "15"
      ]
     },
     "execution_count": 7,
     "metadata": {},
     "output_type": "execute_result"
    }
   ],
   "source": [
    "len(list(disengagements_df.Month.unique())) #The length of the list of unique months is the answer. Unique produces a list of unique values in the passed set. Length is needed so that the result is not the unique months but the count of unique months. "
   ]
  },
  {
   "cell_type": "markdown",
   "metadata": {},
   "source": [
    "#### C) List of unique locations of AV disengagements\n"
   ]
  },
  {
   "cell_type": "code",
   "execution_count": 8,
   "metadata": {},
   "outputs": [
    {
     "data": {
      "text/plain": [
       "['urban-street', 'highway']"
      ]
     },
     "execution_count": 8,
     "metadata": {},
     "output_type": "execute_result"
    }
   ],
   "source": [
    "list(disengagements_df.Location.unique()) #Unique produces the unique values of the passed set."
   ]
  },
  {
   "cell_type": "markdown",
   "metadata": {},
   "source": [
    "#### D) Number of unique causes for AV disengagements\n"
   ]
  },
  {
   "cell_type": "code",
   "execution_count": 9,
   "metadata": {},
   "outputs": [
    {
     "data": {
      "text/plain": [
       "10"
      ]
     },
     "execution_count": 9,
     "metadata": {},
     "output_type": "execute_result"
    }
   ],
   "source": [
    "len(list(disengagements_df.Cause.unique())) #similar to part b, but now passing the column cause."
   ]
  },
  {
   "cell_type": "markdown",
   "metadata": {},
   "source": [
    "#### E) Which columns in the datasets (if any) have missing values? How many missing values do these column(s) have? (NAs (not valid entries) commonly occur in real world datasets…)"
   ]
  },
  {
   "cell_type": "code",
   "execution_count": 10,
   "metadata": {},
   "outputs": [
    {
     "data": {
      "text/plain": [
       "Month              0\n",
       "Car                0\n",
       "Location           0\n",
       "Weather            0\n",
       "TypeOfTrigger      0\n",
       "ReactionTime     532\n",
       "Cause              0\n",
       "dtype: int64"
      ]
     },
     "execution_count": 10,
     "metadata": {},
     "output_type": "execute_result"
    }
   ],
   "source": [
    "disengagements_df.isnull().sum()"
   ]
  },
  {
   "cell_type": "markdown",
   "metadata": {},
   "source": [
    "### 3) Plot a pie chart for the causes of AV disengagement. Based on the pie-chart, list the top 2 leading causes of disengagement?"
   ]
  },
  {
   "cell_type": "code",
   "execution_count": 11,
   "metadata": {},
   "outputs": [
    {
     "data": {
      "text/plain": [
       "<Figure size 1200x800 with 1 Axes>"
      ]
     },
     "metadata": {},
     "output_type": "display_data"
    }
   ],
   "source": [
    "import matplotlib\n",
    "import matplotlib.pyplot as plt\n",
    "matplotlib.rcParams['figure.figsize'] = [12.0, 8.0]\n",
    "import matplotlib as mpl\n",
    "mpl.rcParams['font.size'] = 20.0\n",
    "\n",
    "causes = disengagements_df['Cause'].value_counts()\n",
    "patches, texts, _ = plt.pie(causes, \n",
    "        labels=causes.keys(),\n",
    "        autopct='%.1f%%', shadow=True)\n",
    "plt.title(\"Pie Chart for the Causes of AV Disengagement\")\n",
    "plt.show()"
   ]
  },
  {
   "cell_type": "markdown",
   "metadata": {},
   "source": [
    "The number 1 cause of disengagement is \"Unwanted Driver Discomfort\" at 12.5% <br/>\n",
    "The number 2 cause of disengagementt is \"Recklessly behaving agent\" at 12.1%"
   ]
  },
  {
   "cell_type": "markdown",
   "metadata": {},
   "source": [
    "### 4) Visualize the trend of disengagement/mile over time with monthly granularity. How would you describe the trend? Are AV’s maturing over time?"
   ]
  },
  {
   "cell_type": "code",
   "execution_count": 12,
   "metadata": {},
   "outputs": [],
   "source": [
    "totalmiles_df[\"Disengagements/Mile\"] =  totalmiles_df[\"total number of disengagements\"] / totalmiles_df[\"miles driven in autonomous mode\"]  #data manipulation and column creation to get the desired data."
   ]
  },
  {
   "cell_type": "code",
   "execution_count": 13,
   "metadata": {},
   "outputs": [
    {
     "data": {
      "text/html": [
       "<div>\n",
       "<style scoped>\n",
       "    .dataframe tbody tr th:only-of-type {\n",
       "        vertical-align: middle;\n",
       "    }\n",
       "\n",
       "    .dataframe tbody tr th {\n",
       "        vertical-align: top;\n",
       "    }\n",
       "\n",
       "    .dataframe thead th {\n",
       "        text-align: right;\n",
       "    }\n",
       "</style>\n",
       "<table border=\"1\" class=\"dataframe\">\n",
       "  <thead>\n",
       "    <tr style=\"text-align: right;\">\n",
       "      <th></th>\n",
       "      <th>Month</th>\n",
       "      <th>Car</th>\n",
       "      <th>miles driven in autonomous mode</th>\n",
       "      <th>total number of disengagements</th>\n",
       "      <th>number of automatic disengagements</th>\n",
       "      <th>number of manual disengagements</th>\n",
       "      <th>Disengagements/Mile</th>\n",
       "    </tr>\n",
       "  </thead>\n",
       "  <tbody>\n",
       "    <tr>\n",
       "      <td>0</td>\n",
       "      <td>14-Sep</td>\n",
       "      <td>WDD2221851A001072</td>\n",
       "      <td>4207</td>\n",
       "      <td>44</td>\n",
       "      <td>24</td>\n",
       "      <td>20</td>\n",
       "      <td>0.010459</td>\n",
       "    </tr>\n",
       "    <tr>\n",
       "      <td>1</td>\n",
       "      <td>14-Oct</td>\n",
       "      <td>WDD2221851A001072</td>\n",
       "      <td>23971</td>\n",
       "      <td>228</td>\n",
       "      <td>100</td>\n",
       "      <td>128</td>\n",
       "      <td>0.009511</td>\n",
       "    </tr>\n",
       "    <tr>\n",
       "      <td>2</td>\n",
       "      <td>14-Nov</td>\n",
       "      <td>WDD2221851A001072</td>\n",
       "      <td>15837</td>\n",
       "      <td>141</td>\n",
       "      <td>66</td>\n",
       "      <td>75</td>\n",
       "      <td>0.008903</td>\n",
       "    </tr>\n",
       "    <tr>\n",
       "      <td>3</td>\n",
       "      <td>14-Dec</td>\n",
       "      <td>WDD2221851A001072</td>\n",
       "      <td>9413</td>\n",
       "      <td>36</td>\n",
       "      <td>15</td>\n",
       "      <td>21</td>\n",
       "      <td>0.003824</td>\n",
       "    </tr>\n",
       "    <tr>\n",
       "      <td>4</td>\n",
       "      <td>15-Jan</td>\n",
       "      <td>WDD2221851A001072</td>\n",
       "      <td>18192</td>\n",
       "      <td>48</td>\n",
       "      <td>18</td>\n",
       "      <td>30</td>\n",
       "      <td>0.002639</td>\n",
       "    </tr>\n",
       "  </tbody>\n",
       "</table>\n",
       "</div>"
      ],
      "text/plain": [
       "    Month                Car  miles driven in autonomous mode  \\\n",
       "0  14-Sep  WDD2221851A001072                             4207   \n",
       "1  14-Oct  WDD2221851A001072                            23971   \n",
       "2  14-Nov  WDD2221851A001072                            15837   \n",
       "3  14-Dec  WDD2221851A001072                             9413   \n",
       "4  15-Jan  WDD2221851A001072                            18192   \n",
       "\n",
       "   total number of disengagements  number of automatic disengagements  \\\n",
       "0                              44                                  24   \n",
       "1                             228                                 100   \n",
       "2                             141                                  66   \n",
       "3                              36                                  15   \n",
       "4                              48                                  18   \n",
       "\n",
       "   number of manual disengagements  Disengagements/Mile  \n",
       "0                               20             0.010459  \n",
       "1                              128             0.009511  \n",
       "2                               75             0.008903  \n",
       "3                               21             0.003824  \n",
       "4                               30             0.002639  "
      ]
     },
     "execution_count": 13,
     "metadata": {},
     "output_type": "execute_result"
    }
   ],
   "source": [
    "totalmiles_df.head() # self review for ensuring the desired column is made."
   ]
  },
  {
   "cell_type": "code",
   "execution_count": 14,
   "metadata": {},
   "outputs": [],
   "source": [
    "from datetime import datetime #importing everything for the future plotting\n",
    "import matplotlib\n",
    "import matplotlib.pyplot as plt\n",
    "import matplotlib as mpl\n",
    "import seaborn as sns\n",
    "from scipy import stats as st\n",
    "from statsmodels.stats import weightstats as stests"
   ]
  },
  {
   "cell_type": "code",
   "execution_count": 15,
   "metadata": {},
   "outputs": [],
   "source": [
    "totalmiles_df[\"Month\"] = pd.to_datetime(totalmiles_df[\"Month\"], format='%y-%b') # cleaning the month column so that that the x values will be in order."
   ]
  },
  {
   "cell_type": "code",
   "execution_count": 16,
   "metadata": {},
   "outputs": [
    {
     "data": {
      "image/png": "[encoded data removed]",
      "text/plain": [
       "<Figure size 432x288 with 1 Axes>"
      ]
     },
     "metadata": {
      "needs_background": "light"
     },
     "output_type": "display_data"
    }
   ],
   "source": [
    "#plotting and assigning labels.\n",
    "dis_mile_plot = totalmiles_df.groupby('Month')['Disengagements/Mile'].mean().dropna().plot()\n",
    "dis_mile_plot.set_title(\"Disengagements/Mile by Monthly Increments\")\n",
    "dis_mile_plot.set_ylabel(\"Disengagements/Mile\")\n",
    "dis_mile_plot.set_xlabel(\"Month\")\n",
    "plt.legend()\n",
    "plt.show()"
   ]
  },
  {
   "cell_type": "markdown",
   "metadata": {},
   "source": [
    "This trend is generally curving downwards, as time progresses. This indicates that generally, AV software has been maturing, as there are less disengagements per mile."
   ]
  },
  {
   "cell_type": "markdown",
   "metadata": {},
   "source": [
    "## Task 1\n",
    "\n",
    "### 1) What do the following distributions signify about samples drawn from it "
   ]
  },
  {
   "cell_type": "markdown",
   "metadata": {},
   "source": [
    "#### A) Gaussian distribution"
   ]
  },
  {
   "cell_type": "markdown",
   "metadata": {},
   "source": [
    "#### B) Exponential distribution"
   ]
  },
  {
   "cell_type": "markdown",
   "metadata": {},
   "source": [
    "#### C) Weibull distribution"
   ]
  },
  {
   "cell_type": "markdown",
   "metadata": {},
   "source": [
    "### 2) Plot the probability distribution of reaction times. Does this distribution fit any known distributions (Gaussian, Weibull, Exponential)? What does the fit distribution signify?\n"
   ]
  },
  {
   "cell_type": "code",
   "execution_count": 17,
   "metadata": {},
   "outputs": [
    {
     "data": {
      "text/plain": [
       "Text(0, 0.5, 'Normalized Counts')"
      ]
     },
     "execution_count": 17,
     "metadata": {},
     "output_type": "execute_result"
    },
    {
     "data": {
      "image/png": "[encoded data removed]",
      "text/plain": [
       "<Figure size 432x288 with 1 Axes>"
      ]
     },
     "metadata": {
      "needs_background": "light"
     },
     "output_type": "display_data"
    }
   ],
   "source": [
    "ax = sns.distplot(disengagements_df['ReactionTime'].dropna())\n",
    "ax.set_title(\"Reaction Time Distribution\")\n",
    "ax.set_xlabel(\"Reaction Time in Seconds\")\n",
    "ax.set_ylabel(\"Normalized Counts\")"
   ]
  },
  {
   "cell_type": "markdown",
   "metadata": {},
   "source": [
    "### 3) Compute the average reaction time"
   ]
  },
  {
   "cell_type": "markdown",
   "metadata": {},
   "source": [
    "#### A) For the entire duration of the dataset"
   ]
  },
  {
   "cell_type": "code",
   "execution_count": 18,
   "metadata": {},
   "outputs": [
    {
     "data": {
      "text/plain": [
       "0.9297703252032526"
      ]
     },
     "execution_count": 18,
     "metadata": {},
     "output_type": "execute_result"
    }
   ],
   "source": [
    "disengagements_df['ReactionTime'].dropna().mean()#mean() returns the mean of the passed set."
   ]
  },
  {
   "cell_type": "markdown",
   "metadata": {},
   "source": [
    "#### B) For the entire duration of the dataset differentiated by the location of disengagement"
   ]
  },
  {
   "cell_type": "code",
   "execution_count": 19,
   "metadata": {},
   "outputs": [
    {
     "data": {
      "text/plain": [
       "Location\n",
       "highway         1.48000\n",
       "urban-street    0.92865\n",
       "Name: ReactionTime, dtype: float64"
      ]
     },
     "execution_count": 19,
     "metadata": {},
     "output_type": "execute_result"
    }
   ],
   "source": [
    "disengagements_df.dropna().groupby('Location')['ReactionTime'].mean() #groupby() returns subsets filtered by unique values. mean() then returns the mean values for the two subsets."
   ]
  },
  {
   "cell_type": "markdown",
   "metadata": {},
   "source": [
    "### 4) It is known that the mean reaction time for humans in non-AV cars is 1.09 seconds. Is the mean reaction time for humans in AV cars different from non-AV cars? Perform a hypothesis testing at a 0.05 significance level. "
   ]
  },
  {
   "cell_type": "code",
   "execution_count": 20,
   "metadata": {},
   "outputs": [
    {
     "name": "stdout",
     "output_type": "stream",
     "text": [
      "-2.0986037086235854\n",
      "0.03585184917192886\n",
      "Using the ztest function in the stats package, it can be seen that the z is -2.0986037086235854, and the pval associated with it is 0.03585184917192886. This is less than the 0.05 significance level so we reject the null hypothesis, and the reaction times for humans and AV cars are statistically different.\n"
     ]
    }
   ],
   "source": [
    "#applying the central limit theorum\n",
    "z = stests.ztest(disengagements_df['ReactionTime'].dropna(), value = 1.09)[0]\n",
    "pval = stests.ztest(disengagements_df['ReactionTime'].dropna(), value = 1.09)[1]\n",
    "print(z)\n",
    "print(pval)\n",
    "print(\"Using the ztest function in the stats package, it can be seen that the z is -2.0986037086235854, and the pval associated with it is 0.03585184917192886. This is less than the 0.05 significance level so we reject the null hypothesis, and the reaction times for humans and AV cars are statistically different.\")"
   ]
  },
  {
   "cell_type": "markdown",
   "metadata": {},
   "source": [
    "### 5)  Plot the probability distribution of disengagements/mile with monthly granularity. Does this distribution fit any known distributions (Gaussian, Weibull, Exponential)? What does the distribution that fits signify?\n"
   ]
  },
  {
   "cell_type": "code",
   "execution_count": 21,
   "metadata": {},
   "outputs": [
    {
     "name": "stdout",
     "output_type": "stream",
     "text": [
      "This distribution looks roughly exponential indicating that, each month, the average disengagements/mile tends to be shorter rather than longer.\n"
     ]
    },
    {
     "data": {
      "image/png": "[encoded data removed]",
      "text/plain": [
       "<Figure size 432x288 with 1 Axes>"
      ]
     },
     "metadata": {
      "needs_background": "light"
     },
     "output_type": "display_data"
    }
   ],
   "source": [
    "#plotting the disengagemtns/mile after being grouped by month.\n",
    "dis_per_month = sns.distplot(totalmiles_df.dropna().groupby('Month')['Disengagements/Mile'].mean(), fit = st.expon, bins = 40, kde = True)\n",
    "dis_per_month.set_ylabel(\"Normalized Counts\")\n",
    "dis_per_month.set_xlabel(\"Monthly Average Disengagements/Mile\")\n",
    "dis_per_month.set_title(\"Disengagements/mile with Monthly Granularity\")\n",
    "print('This distribution looks roughly exponential indicating that, each month, the average disengagements/mile tends to be shorter rather than longer.')"
   ]
  },
  {
   "cell_type": "markdown",
   "metadata": {},
   "source": [
    "## Task 2"
   ]
  },
  {
   "cell_type": "markdown",
   "metadata": {},
   "source": [
    "#### Assumptions\n",
    "1. There can be at most one disengagement in a mile\n",
    "2. A day can be either clear or cloudy, but not both. The probability of a day being clear in California is 72% [5].\n",
    "3. The AV is equally likely to drive on a cloudy day as on a clear day. \n",
    "\n",
    "### 1) Based on the above assumptions, answer the following questions on basic probability."
   ]
  },
  {
   "cell_type": "markdown",
   "metadata": {},
   "source": [
    "##### A) The assumption on maximum number of disengagements in a mile allows us totreat the occurrence of a disengagement in a mile as a random variable with a BERNOULLI distribution."
   ]
  },
  {
   "cell_type": "markdown",
   "metadata": {},
   "source": [
    "#### B) Based on the above assumptions, calculate the probability of disengagement per mile on a cloudy day.  \n"
   ]
  },
  {
   "cell_type": "code",
   "execution_count": 22,
   "metadata": {},
   "outputs": [
    {
     "data": {
      "text/plain": [
       "0.00590255677552725"
      ]
     },
     "execution_count": 22,
     "metadata": {},
     "output_type": "execute_result"
    }
   ],
   "source": [
    "prob_dpm = totalmiles_df[\"total number of disengagements\"].sum() / totalmiles_df[\"miles driven in autonomous mode\"].sum()\n",
    "\n",
    "prob_cloudy = .28 #1 - .72\n",
    "\n",
    "cloudy_weather = disengagements_df[\"Weather\"] == \"cloudy\"\n",
    "\n",
    "prob_dpm_given_cloudy = prob_dpm * (sum(cloudy_weather) / len(disengagements_df)) / prob_cloudy\n",
    "prob_dpm_given_cloudy"
   ]
  },
  {
   "cell_type": "markdown",
   "metadata": {},
   "source": [
    "#### C) Based on the above assumptions, calculate the probability of disengagement per mile on a clear day"
   ]
  },
  {
   "cell_type": "code",
   "execution_count": 23,
   "metadata": {},
   "outputs": [
    {
     "data": {
      "text/plain": [
       "0.0005195663748517999"
      ]
     },
     "execution_count": 23,
     "metadata": {},
     "output_type": "execute_result"
    }
   ],
   "source": [
    "prob_clear = .72\n",
    "\n",
    "clear_weather = disengagements_df[\"Weather\"] == \"clear\"\n",
    "\n",
    "prob_dpm_given_clear = prob_dpm * (sum(clear_weather) / len(disengagements_df)) / prob_clear\n",
    "prob_dpm_given_clear"
   ]
  },
  {
   "cell_type": "markdown",
   "metadata": {},
   "source": [
    "#### D) Similarly, calculate the probability of an automatic disengagement per mile on a cloudy day, and the probability of an automatic disengagement per mile on a clear day."
   ]
  },
  {
   "cell_type": "code",
   "execution_count": 24,
   "metadata": {},
   "outputs": [
    {
     "name": "stdout",
     "output_type": "stream",
     "text": [
      "Probability of an automatic disengagement per mile on a cloudy day is: 0.0028063653172267287\n",
      "Probability of an automatic disengagement per mile on a clear day is: 0.00026390673008345393\n"
     ]
    }
   ],
   "source": [
    "automatic_trigger = disengagements_df[\"TypeOfTrigger\"] == \"automatic\"\n",
    "\n",
    "prob_dpm_automatic_given_cloudy = prob_dpm * (sum(cloudy_weather & automatic_trigger) / len(disengagements_df)) / prob_cloudy\n",
    "prob_dpm_automatic_given_clear = prob_dpm * (sum(clear_weather & automatic_trigger) / len(disengagements_df)) / prob_clear\n",
    "print(\"Probability of an automatic disengagement per mile on a cloudy day is: \" + str(prob_dpm_automatic_given_cloudy))\n",
    "print(\"Probability of an automatic disengagement per mile on a clear day is: \" + str(prob_dpm_automatic_given_clear))\n"
   ]
  },
  {
   "cell_type": "markdown",
   "metadata": {},
   "source": [
    "#### E) How likely is it that in 12000 miles, there are 150 or more disengagements under cloudy conditions? [Hint: Think of an appropriate approximation that makes the computation feasible/easier.]"
   ]
  },
  {
   "cell_type": "code",
   "execution_count": 25,
   "metadata": {},
   "outputs": [
    {
     "name": "stdout",
     "output_type": "stream",
     "text": [
      "The probability that there are more than 150 disengagemnts under cloudy conditions in 12000 miltes is 1.1102230246251565e-16.\n"
     ]
    }
   ],
   "source": [
    "print(\"The probability that there are more than 150 disengagemnts under cloudy conditions in 12000 miltes is {}.\".format(1-st.binom.cdf(150, 12000, prob_dpm_given_cloudy)\n",
    "))"
   ]
  },
  {
   "cell_type": "markdown",
   "metadata": {},
   "source": [
    "### 2) Answer the following question about hypothesis testing:"
   ]
  },
  {
   "cell_type": "markdown",
   "metadata": {},
   "source": [
    "#### A) What does the normal distribution represent in the hypothesis testing?\n",
    "\n",
    "The normal distribution represents the distribution of a random variable under an assumption represented by the null hypothesis."
   ]
  },
  {
   "cell_type": "markdown",
   "metadata": {},
   "source": [
    "#### B) Does rejecting the null hypothesis mean accepting the alternative hypothesis? Explain your answer.\n",
    "\n",
    "No, never. Rejecting the null hypothesis just means there is statistically significant evidence that goes against the null, not necessarily that there is enough evidence to support the alternative hypothesis.  \n"
   ]
  },
  {
   "cell_type": "markdown",
   "metadata": {},
   "source": [
    "### 3) At a 0.05 significance level, test the following hypothesis: The AV has more disengagements (automatic and manual) on cloudy days than clear days. Based on the result of the hypothesis test, what can you conclude about the impact of weather conditions on AV safety? [Hint: Use a Z-test for testing this hypothesis].\n"
   ]
  },
  {
   "cell_type": "code",
   "execution_count": 37,
   "metadata": {},
   "outputs": [
    {
     "data": {
      "text/plain": [
       "0.0"
      ]
     },
     "execution_count": 37,
     "metadata": {},
     "output_type": "execute_result"
    }
   ],
   "source": [
    "1 - st.norm.cdf(z)"
   ]
  },
  {
   "cell_type": "code",
   "execution_count": 35,
   "metadata": {},
   "outputs": [
    {
     "name": "stdout",
     "output_type": "stream",
     "text": [
      "The pvalue of cloudy days having more disengagemnts than clear days is 0.0. therefore, under the 0.05 significance level we reject the null hypothesis, and there is statistical difference between the proportions of disengagements.\n"
     ]
    }
   ],
   "source": [
    "#calculating z of 2 prop z-test\n",
    "cloudyn = sum(cloudy_weather)\n",
    "clearn = sum(clear_weather)\n",
    "overallp = prob_dpm\n",
    "n_cloudy = prob_cloudy * totalmiles_df[\"miles driven in autonomous mode\"].sum()\n",
    "n_clear = prob_clear * totalmiles_df[\"miles driven in autonomous mode\"].sum()\n",
    "z = (prob_dpm_given_cloudy - prob_dpm_given_clear)/((overallp*(1-overallp)*((1/n_cloudy) + (1/n_clear))))**0.5\n",
    "print( 'The pvalue of cloudy days having more disengagemnts than clear days is {}. therefore, under the 0.05 significance level we reject the null hypothesis, and there is statistical difference between the proportions of disengagements.'.format((1 - st.norm.cdf(z, loc=0, scale =1))))"
   ]
  },
  {
   "cell_type": "markdown",
   "metadata": {},
   "source": [
    " ### 4) What’s the conditional probability that the reaction time is: (Hint, there might be multiple conditions to consider.)"
   ]
  },
  {
   "cell_type": "markdown",
   "metadata": {},
   "source": [
    "#### a)Greater than 0.6s given that the weather was cloudy? Reaction time is measured only in cases where there was an automatic disengagement"
   ]
  },
  {
   "cell_type": "code",
   "execution_count": 27,
   "metadata": {},
   "outputs": [
    {
     "name": "stdout",
     "output_type": "stream",
     "text": [
      "0.473551637279597\n"
     ]
    }
   ],
   "source": [
    "cloudy_weather = disengagements_df[\"Weather\"] == \"cloudy\"\n",
    "automatic_trigger = disengagements_df[\"TypeOfTrigger\"] == \"automatic\"\n",
    "goal_time = disengagements_df[\"ReactionTime\"] > 0.6\n",
    "pgoalcloudy = sum(goal_time & cloudy_weather & automatic_trigger)/sum(cloudy_weather & automatic_trigger)\n",
    "print(pgoalcloudy)\n"
   ]
  },
  {
   "cell_type": "markdown",
   "metadata": {},
   "source": [
    "#### b) Greater than 0.9s given the weather was clear? Reaction time is measured only in cases where there was an automatic disengagement."
   ]
  },
  {
   "cell_type": "code",
   "execution_count": 28,
   "metadata": {},
   "outputs": [
    {
     "name": "stdout",
     "output_type": "stream",
     "text": [
      "0.28125\n"
     ]
    }
   ],
   "source": [
    "clear_weather = disengagements_df[\"Weather\"] == \"clear\"\n",
    "automatic_trigger = disengagements_df[\"TypeOfTrigger\"] == \"automatic\"\n",
    "goal_time = disengagements_df[\"ReactionTime\"] > 0.9\n",
    "pgoalclear = sum(goal_time & clear_weather & automatic_trigger)/sum(clear_weather & automatic_trigger)\n",
    "print(pgoalclear)\n"
   ]
  },
  {
   "cell_type": "markdown",
   "metadata": {},
   "source": [
    "### 5. A study found that an automatic AV disengagement will result in an accident if the human driver is slow in reacting. Following reactions are considered slow: (i) a reaction time greater than 0.6s under cloudy conditions and, (ii) a reaction time greater than 0.9s under clear conditions. Find the probability of an accident per mile involving an AV disengagement. [Hint: Use the theorem of total probability to express the probability of an accident per mile as a sum of the conditional probabilities calculated in the previous questions in this task]."
   ]
  },
  {
   "cell_type": "code",
   "execution_count": null,
   "metadata": {},
   "outputs": [],
   "source": [
    "#P(accident per mile involving Av) = p()"
   ]
  },
  {
   "cell_type": "code",
   "execution_count": 29,
   "metadata": {},
   "outputs": [
    {
     "name": "stdout",
     "output_type": "stream",
     "text": [
      "0.0006791706838697026\n"
     ]
    }
   ],
   "source": [
    "#P(slow) = p(slow|cloudy)p(cloudy)+p(slow|clear)p(clear)\n",
    "pslow = pgoalclear * 0.72 + pgoalcloudy * 0.28\n",
    "#p(accident per mile involving Av) = (p(slow) * n(disengagemtns))/n(miles) = n(accidents)/n(miles)\n",
    "print((pslow * len(disengagements_df))/(totalmiles_df[\"miles driven in autonomous mode\"].sum()))"
   ]
  },
  {
   "cell_type": "markdown",
   "metadata": {},
   "source": [
    "### 6. The probability of a human driver causing a car accident is 2x10^-6. How do AV's compare to human drivers? Justify your conlcusion and explain its consequences."
   ]
  },
  {
   "cell_type": "markdown",
   "metadata": {},
   "source": [
    "Because the proababilty of a AV/driver system causing an accdient is about 6x10^-4, it is worse than the proabability of a human driver causing a car accident. This is because under the AV/driver system 300 times worse than the proabability of a human driver causing a car accident. This even gives the  claim against the use of current AV's since the addition of an AV system to a car makes human driver performance worse."
   ]
  },
  {
   "cell_type": "markdown",
   "metadata": {},
   "source": [
    "### 7. The hypothesis test you performed in this task is an example of a parametric test that assumes that the observed data is distributed similarly to some other well-known distribution (such as a normal distribution). However, sometimes, we need to compare two distributions of data that don’t follow any such well-known distributions. Perform a two-sample Kolmogorov-Smirnov test (using the ks_2samp package from Scipy) to compare the following two distributions: (1) distribution of disengagement reaction time when the weather is cloudy and (2) distribution of disengagement reaction time when the weather is clear. What are your null and alternative hypotheses? Assuming a significance level threshold of 0.1, what can you conclude from the test results about the impact of weather conditions on disengagement reaction time?"
   ]
  },
  {
   "cell_type": "code",
   "execution_count": 30,
   "metadata": {},
   "outputs": [
    {
     "data": {
      "text/plain": [
       "Ks_2sampResult(statistic=0.05633178088267909, pvalue=0.6872561980283936)"
      ]
     },
     "execution_count": 30,
     "metadata": {},
     "output_type": "execute_result"
    }
   ],
   "source": [
    "st.ks_2samp(disengagements_df[disengagements_df['Weather'] == 'cloudy']['ReactionTime'],disengagements_df[disengagements_df['Weather'] == 'clear']['ReactionTime'] )"
   ]
  },
  {
   "cell_type": "markdown",
   "metadata": {},
   "source": [
    "The null hypothesis is that the two distributions are the same. \n",
    "The alternate hypothesis is that the two distributions are differnt.\n",
    "\n",
    "\n",
    "At a 0.1 significance threshold, I fail to reject the null hypothesis, since the pvalue is 0.68, concluding that based on our data, the two sample distributions are from the same population distribution."
   ]
  },
  {
   "cell_type": "markdown",
   "metadata": {},
   "source": [
    "## Task 3\n",
    "\n",
    "### 1. Though there are 10 different causes for disengagement, they can be grouped into the following 3 classes – (i) Controller, (ii) Perception System, and (iii) Computer System. The mapping from Disengagement Cause to Class is given in the table below. You will use these 3 classes as the labels in the NB model. Modify your pandas data frame to include a ‘Class’ column."
   ]
  },
  {
   "cell_type": "code",
   "execution_count": 31,
   "metadata": {},
   "outputs": [
    {
     "data": {
      "text/html": [
       "<div>\n",
       "<style scoped>\n",
       "    .dataframe tbody tr th:only-of-type {\n",
       "        vertical-align: middle;\n",
       "    }\n",
       "\n",
       "    .dataframe tbody tr th {\n",
       "        vertical-align: top;\n",
       "    }\n",
       "\n",
       "    .dataframe thead th {\n",
       "        text-align: right;\n",
       "    }\n",
       "</style>\n",
       "<table border=\"1\" class=\"dataframe\">\n",
       "  <thead>\n",
       "    <tr style=\"text-align: right;\">\n",
       "      <th></th>\n",
       "      <th>Month</th>\n",
       "      <th>Car</th>\n",
       "      <th>Location</th>\n",
       "      <th>Weather</th>\n",
       "      <th>TypeOfTrigger</th>\n",
       "      <th>ReactionTime</th>\n",
       "      <th>Cause</th>\n",
       "      <th>Class</th>\n",
       "    </tr>\n",
       "  </thead>\n",
       "  <tbody>\n",
       "    <tr>\n",
       "      <td>0</td>\n",
       "      <td>14-Sep</td>\n",
       "      <td>WDD2221851A001072</td>\n",
       "      <td>urban-street</td>\n",
       "      <td>cloudy</td>\n",
       "      <td>automatic</td>\n",
       "      <td>0.58</td>\n",
       "      <td>Incorrect Traffic Light Detection</td>\n",
       "      <td>Perception System</td>\n",
       "    </tr>\n",
       "    <tr>\n",
       "      <td>1</td>\n",
       "      <td>14-Sep</td>\n",
       "      <td>WDD2221851A001072</td>\n",
       "      <td>urban-street</td>\n",
       "      <td>cloudy</td>\n",
       "      <td>automatic</td>\n",
       "      <td>0.66</td>\n",
       "      <td>Adverse road surface conditions</td>\n",
       "      <td>Perception System</td>\n",
       "    </tr>\n",
       "    <tr>\n",
       "      <td>2</td>\n",
       "      <td>14-Sep</td>\n",
       "      <td>WDD2221851A001072</td>\n",
       "      <td>urban-street</td>\n",
       "      <td>cloudy</td>\n",
       "      <td>automatic</td>\n",
       "      <td>1.93</td>\n",
       "      <td>Position Estimation Failure</td>\n",
       "      <td>Perception System</td>\n",
       "    </tr>\n",
       "    <tr>\n",
       "      <td>3</td>\n",
       "      <td>14-Sep</td>\n",
       "      <td>WDD2221851A001072</td>\n",
       "      <td>urban-street</td>\n",
       "      <td>cloudy</td>\n",
       "      <td>automatic</td>\n",
       "      <td>0.65</td>\n",
       "      <td>Emergency Vehicle</td>\n",
       "      <td>Perception System</td>\n",
       "    </tr>\n",
       "    <tr>\n",
       "      <td>4</td>\n",
       "      <td>14-Sep</td>\n",
       "      <td>WDD2221851A001072</td>\n",
       "      <td>urban-street</td>\n",
       "      <td>cloudy</td>\n",
       "      <td>automatic</td>\n",
       "      <td>0.64</td>\n",
       "      <td>Adverse road surface conditions</td>\n",
       "      <td>Perception System</td>\n",
       "    </tr>\n",
       "  </tbody>\n",
       "</table>\n",
       "</div>"
      ],
      "text/plain": [
       "    Month                Car      Location Weather TypeOfTrigger  \\\n",
       "0  14-Sep  WDD2221851A001072  urban-street  cloudy     automatic   \n",
       "1  14-Sep  WDD2221851A001072  urban-street  cloudy     automatic   \n",
       "2  14-Sep  WDD2221851A001072  urban-street  cloudy     automatic   \n",
       "3  14-Sep  WDD2221851A001072  urban-street  cloudy     automatic   \n",
       "4  14-Sep  WDD2221851A001072  urban-street  cloudy     automatic   \n",
       "\n",
       "   ReactionTime                              Cause              Class  \n",
       "0          0.58  Incorrect Traffic Light Detection  Perception System  \n",
       "1          0.66    Adverse road surface conditions  Perception System  \n",
       "2          1.93        Position Estimation Failure  Perception System  \n",
       "3          0.65                  Emergency Vehicle  Perception System  \n",
       "4          0.64    Adverse road surface conditions  Perception System  "
      ]
     },
     "execution_count": 31,
     "metadata": {},
     "output_type": "execute_result"
    }
   ],
   "source": [
    "def classcolfunc(x):\n",
    "    controlcause = {\"Incorrect behavior prediction of others\",\n",
    "                    \"Recklessly behaving agent\",\n",
    "                    \"Unwanted Driver Discomfort\"}\n",
    "    perceptionsystemcause = {\"Adverse road surface conditions\",\n",
    "                             \"Emergency Vehicle\",\n",
    "                             \"Position Estimation Failure\",\n",
    "                             \"Incorrect Traffic Light Detection\"}\n",
    "    computersystemcause = {\"System Tuning and Calibration\",\n",
    "                           \"Hardware Fault\",\n",
    "                           \"Software Froze\"}\n",
    "    if x in controlcause:\n",
    "        return 'Controller'\n",
    "    elif x in perceptionsystemcause:\n",
    "        return 'Perception System'\n",
    "    else:\n",
    "        return 'Computer System'\n",
    "    \n",
    "disengagements_df['Class'] = disengagements_df['Cause'].apply(classcolfunc)\n",
    "disengagements_df.head()"
   ]
  },
  {
   "cell_type": "markdown",
   "metadata": {},
   "source": [
    "### 2. Split the data randomly into training and testing (80-20 split). Use the fields ‘Location’, ‘Weather’, and ‘TypeOfTrigger’ as features and use ‘Class’ as assigned in the previous question as the label."
   ]
  },
  {
   "cell_type": "code",
   "execution_count": 32,
   "metadata": {},
   "outputs": [],
   "source": [
    "from sklearn.model_selection import train_test_split\n",
    "train, test = train_test_split(disengagements_df, test_size=0.2)"
   ]
  },
  {
   "cell_type": "markdown",
   "metadata": {},
   "source": [
    "### 3. Using the training dataset, create a NB model to identify the cause of disengagement based on the features ‘Location’, ‘Weather’, and ‘TypeOfTrigger’. Show the conditional probability tables from the training dataset."
   ]
  },
  {
   "cell_type": "code",
   "execution_count": 33,
   "metadata": {},
   "outputs": [
    {
     "data": {
      "text/html": [
       "<div>\n",
       "<style scoped>\n",
       "    .dataframe tbody tr th:only-of-type {\n",
       "        vertical-align: middle;\n",
       "    }\n",
       "\n",
       "    .dataframe tbody tr th {\n",
       "        vertical-align: top;\n",
       "    }\n",
       "\n",
       "    .dataframe thead th {\n",
       "        text-align: right;\n",
       "    }\n",
       "</style>\n",
       "<table border=\"1\" class=\"dataframe\">\n",
       "  <thead>\n",
       "    <tr style=\"text-align: right;\">\n",
       "      <th></th>\n",
       "      <th>Class</th>\n",
       "      <th>P(Location = urban-street|Class)</th>\n",
       "      <th>P(Location = highway|Class)</th>\n",
       "    </tr>\n",
       "  </thead>\n",
       "  <tbody>\n",
       "    <tr>\n",
       "      <td>0</td>\n",
       "      <td>Perception System</td>\n",
       "      <td>1.000000</td>\n",
       "      <td>0.000000</td>\n",
       "    </tr>\n",
       "    <tr>\n",
       "      <td>1</td>\n",
       "      <td>Computer System</td>\n",
       "      <td>0.922078</td>\n",
       "      <td>0.077922</td>\n",
       "    </tr>\n",
       "    <tr>\n",
       "      <td>2</td>\n",
       "      <td>Controller</td>\n",
       "      <td>1.000000</td>\n",
       "      <td>0.000000</td>\n",
       "    </tr>\n",
       "  </tbody>\n",
       "</table>\n",
       "</div>"
      ],
      "text/plain": [
       "               Class  P(Location = urban-street|Class)  \\\n",
       "0  Perception System                          1.000000   \n",
       "1    Computer System                          0.922078   \n",
       "2         Controller                          1.000000   \n",
       "\n",
       "   P(Location = highway|Class)  \n",
       "0                     0.000000  \n",
       "1                     0.077922  \n",
       "2                     0.000000  "
      ]
     },
     "execution_count": 33,
     "metadata": {},
     "output_type": "execute_result"
    }
   ],
   "source": [
    "# assuming conditional independance we want to maximize P(class)*\\prod{p(x|C)}\n",
    "LocationProbDf = pd.DataFrame()\n",
    "LocationProbDf['Class'] = train['Class'].unique()\n",
    "def pUrbanGivenClass(Class):\n",
    "    classmask = train['Class'] == Class\n",
    "    locmask = train['Location'] == 'urban-street'\n",
    "    p = len(train[classmask & locmask])/len(train[classmask])\n",
    "    return (p)\n",
    "LocationProbDf['P(Location = urban-street|Class)'] = LocationProbDf['Class'].apply(pUrbanGivenClass)\n",
    "LocationProbDf['P(Location = highway|Class)'] = 1 - LocationProbDf['P(Location = urban-street|Class)']\n",
    "LocationProbDf.head(10)"
   ]
  },
  {
   "cell_type": "code",
   "execution_count": 34,
   "metadata": {},
   "outputs": [
    {
     "data": {
      "text/html": [
       "<div>\n",
       "<style scoped>\n",
       "    .dataframe tbody tr th:only-of-type {\n",
       "        vertical-align: middle;\n",
       "    }\n",
       "\n",
       "    .dataframe tbody tr th {\n",
       "        vertical-align: top;\n",
       "    }\n",
       "\n",
       "    .dataframe thead th {\n",
       "        text-align: right;\n",
       "    }\n",
       "</style>\n",
       "<table border=\"1\" class=\"dataframe\">\n",
       "  <thead>\n",
       "    <tr style=\"text-align: right;\">\n",
       "      <th></th>\n",
       "      <th>Class</th>\n",
       "      <th>P(Weather = clear|Class)</th>\n",
       "      <th>P(Weather = cloudy|Class)</th>\n",
       "    </tr>\n",
       "  </thead>\n",
       "  <tbody>\n",
       "    <tr>\n",
       "      <td>0</td>\n",
       "      <td>Perception System</td>\n",
       "      <td>0.000000</td>\n",
       "      <td>1.000000</td>\n",
       "    </tr>\n",
       "    <tr>\n",
       "      <td>1</td>\n",
       "      <td>Computer System</td>\n",
       "      <td>0.636364</td>\n",
       "      <td>0.363636</td>\n",
       "    </tr>\n",
       "    <tr>\n",
       "      <td>2</td>\n",
       "      <td>Controller</td>\n",
       "      <td>0.003509</td>\n",
       "      <td>0.996491</td>\n",
       "    </tr>\n",
       "  </tbody>\n",
       "</table>\n",
       "</div>"
      ],
      "text/plain": [
       "               Class  P(Weather = clear|Class)  P(Weather = cloudy|Class)\n",
       "0  Perception System                  0.000000                   1.000000\n",
       "1    Computer System                  0.636364                   0.363636\n",
       "2         Controller                  0.003509                   0.996491"
      ]
     },
     "execution_count": 34,
     "metadata": {},
     "output_type": "execute_result"
    }
   ],
   "source": [
    "WeatherProbDf = pd.DataFrame()\n",
    "WeatherProbDf['Class'] = train['Class'].unique()\n",
    "def pClearGivenClass(Class):\n",
    "    classmask = train['Class'] == Class\n",
    "    weamask = train['Weather'] == 'clear'\n",
    "    p = len(train[classmask & weamask])/len(train[classmask])\n",
    "    return (p)\n",
    "WeatherProbDf['P(Weather = clear|Class)'] = WeatherProbDf['Class'].apply(pClearGivenClass)\n",
    "WeatherProbDf['P(Weather = cloudy|Class)'] = 1 - WeatherProbDf['P(Weather = clear|Class)']\n",
    "WeatherProbDf.head(10)"
   ]
  },
  {
   "cell_type": "code",
   "execution_count": 36,
   "metadata": {},
   "outputs": [
    {
     "data": {
      "text/html": [
       "<div>\n",
       "<style scoped>\n",
       "    .dataframe tbody tr th:only-of-type {\n",
       "        vertical-align: middle;\n",
       "    }\n",
       "\n",
       "    .dataframe tbody tr th {\n",
       "        vertical-align: top;\n",
       "    }\n",
       "\n",
       "    .dataframe thead th {\n",
       "        text-align: right;\n",
       "    }\n",
       "</style>\n",
       "<table border=\"1\" class=\"dataframe\">\n",
       "  <thead>\n",
       "    <tr style=\"text-align: right;\">\n",
       "      <th></th>\n",
       "      <th>Class</th>\n",
       "      <th>P(Trigger = manual|Class)</th>\n",
       "      <th>P(Trigger = automatic|Class)</th>\n",
       "    </tr>\n",
       "  </thead>\n",
       "  <tbody>\n",
       "    <tr>\n",
       "      <td>0</td>\n",
       "      <td>Controller</td>\n",
       "      <td>0.882759</td>\n",
       "      <td>0.117241</td>\n",
       "    </tr>\n",
       "    <tr>\n",
       "      <td>1</td>\n",
       "      <td>Computer System</td>\n",
       "      <td>0.497925</td>\n",
       "      <td>0.502075</td>\n",
       "    </tr>\n",
       "    <tr>\n",
       "      <td>2</td>\n",
       "      <td>Perception System</td>\n",
       "      <td>0.177083</td>\n",
       "      <td>0.822917</td>\n",
       "    </tr>\n",
       "  </tbody>\n",
       "</table>\n",
       "</div>"
      ],
      "text/plain": [
       "               Class  P(Trigger = manual|Class)  P(Trigger = automatic|Class)\n",
       "0         Controller                   0.882759                      0.117241\n",
       "1    Computer System                   0.497925                      0.502075\n",
       "2  Perception System                   0.177083                      0.822917"
      ]
     },
     "execution_count": 36,
     "metadata": {},
     "output_type": "execute_result"
    }
   ],
   "source": [
    "TriggerProbDf = pd.DataFrame()\n",
    "TriggerProbDf['Class'] = train['Class'].unique()\n",
    "def pManualGivenClass(Class):\n",
    "    classmask = train['Class'] == Class\n",
    "    trigmask = train['TypeOfTrigger'] == 'manual'\n",
    "    p = len(train[classmask & trigmask])/len(train[classmask])\n",
    "    return (p)\n",
    "TriggerProbDf['P(Trigger = manual|Class)'] = TriggerProbDf['Class'].apply(pManualGivenClass)\n",
    "TriggerProbDf['P(Trigger = automatic|Class)'] = 1 - TriggerProbDf['P(Trigger = manual|Class)']\n",
    "TriggerProbDf.head(10)"
   ]
  },
  {
   "cell_type": "code",
   "execution_count": 37,
   "metadata": {},
   "outputs": [
    {
     "name": "stdout",
     "output_type": "stream",
     "text": [
      "\n"
     ]
    }
   ],
   "source": [
    "import numpy\n",
    "## finding p(C)\n",
    "CProbDf = pd.DataFrame()\n",
    "CProbDf['Class'] = train['Class'].unique()\n",
    "def pClass(Class):\n",
    "    classmask = train['Class'] == Class\n",
    "    p = len(train[classmask])/len(train)\n",
    "    return (p)\n",
    "CProbDf['P(Class)'] = CProbDf['Class'].apply(pClass)\n",
    "print()\n",
    "\n",
    "def NB(weather, location, trigger):\n",
    "    probabilities = []\n",
    "    for i in train['Class'].unique():\n",
    "        probc = CProbDf[CProbDf['Class'] == i]['P(Class)'].sum()\n",
    "        probw_giv_c = WeatherProbDf[WeatherProbDf['Class'] == i]['P(Weather = {}|Class)'.format(weather)].sum()\n",
    "        probl_giv_c = LocationProbDf[WeatherProbDf['Class'] == i]['P(Location = {}|Class)'.format(location)].sum()\n",
    "        probt_giv_c = TriggerProbDf[TriggerProbDf['Class'] == i]['P(Trigger = {}|Class)'.format(trigger)].sum()\n",
    "        probabilities.append(probc * probw_giv_c * probl_giv_c * probt_giv_c)\n",
    "    return(train['Class'].unique()[numpy.argmax(probabilities)])"
   ]
  },
  {
   "cell_type": "markdown",
   "metadata": {},
   "source": [
    "### 4. Using the model to predict the cause of the disengagement for the test dataset. Compute the accuracy achieved by your model."
   ]
  },
  {
   "cell_type": "code",
   "execution_count": 38,
   "metadata": {},
   "outputs": [
    {
     "name": "stdout",
     "output_type": "stream",
     "text": [
      "0.8\n"
     ]
    }
   ],
   "source": [
    "##accuracy finding.\n",
    "success = 0\n",
    "failure = 0\n",
    "total = 0\n",
    "for index, row in test.iterrows():\n",
    "    if NB(row['Weather'], row['Location'], row['TypeOfTrigger']) == row['Class']:\n",
    "        success = success + 1\n",
    "    else:\n",
    "        failure = failure + 1\n",
    "    total = total + 1\n",
    "print(success/total)"
   ]
  },
  {
   "cell_type": "markdown",
   "metadata": {},
   "source": [
    "### 5. To get a better estimate of the model performance, perform cross-validation. Repeat sub-questions 2, 3 and 4 five times for different splits of training and test data, and report the average accuracy."
   ]
  },
  {
   "cell_type": "code",
   "execution_count": 39,
   "metadata": {},
   "outputs": [
    {
     "name": "stdout",
     "output_type": "stream",
     "text": [
      "0.7785365853658537\n"
     ]
    }
   ],
   "source": [
    "accuracy = []\n",
    "#running the above code while logging the results\n",
    "for i in range(0,5):\n",
    "    train, test = train_test_split(disengagements_df, test_size=0.2)\n",
    "    LocationProbDf = pd.DataFrame()\n",
    "    LocationProbDf['Class'] = train['Class'].unique()\n",
    "    LocationProbDf['P(Location = urban-street|Class)'] = LocationProbDf['Class'].apply(pUrbanGivenClass)\n",
    "    LocationProbDf['P(Location = highway|Class)'] = 1 - LocationProbDf['P(Location = urban-street|Class)']\n",
    "    \n",
    "    WeatherProbDf = pd.DataFrame()\n",
    "    WeatherProbDf['Class'] = train['Class'].unique()\n",
    "    WeatherProbDf['P(Weather = clear|Class)'] = WeatherProbDf['Class'].apply(pClearGivenClass)\n",
    "    WeatherProbDf['P(Weather = cloudy|Class)'] = 1 - WeatherProbDf['P(Weather = clear|Class)']\n",
    "\n",
    "    TriggerProbDf = pd.DataFrame()\n",
    "    TriggerProbDf['Class'] = train['Class'].unique()\n",
    "    TriggerProbDf['P(Trigger = manual|Class)'] = TriggerProbDf['Class'].apply(pManualGivenClass)\n",
    "    TriggerProbDf['P(Trigger = automatic|Class)'] = 1 - TriggerProbDf['P(Trigger = manual|Class)']\n",
    "    \n",
    "    def NB(weather, location, trigger):\n",
    "        probabilities = []\n",
    "        for i in train['Class'].unique():\n",
    "            probc = CProbDf[CProbDf['Class'] == i]['P(Class)'].sum()\n",
    "            probw_giv_c = WeatherProbDf[WeatherProbDf['Class'] == i]['P(Weather = {}|Class)'.format(weather)].sum()\n",
    "            probl_giv_c = LocationProbDf[WeatherProbDf['Class'] == i]['P(Location = {}|Class)'.format(location)].sum()\n",
    "            probt_giv_c = TriggerProbDf[TriggerProbDf['Class'] == i]['P(Trigger = {}|Class)'.format(trigger)].sum()\n",
    "            probabilities.append(probc * probw_giv_c * probl_giv_c * probt_giv_c)\n",
    "        return(train['Class'].unique()[numpy.argmax(probabilities)])\n",
    "    \n",
    "    success = 0\n",
    "    failure = 0\n",
    "    total = 0\n",
    "    for index, row in test.iterrows():\n",
    "        if NB(row['Weather'], row['Location'], row['TypeOfTrigger']) == row['Class']:\n",
    "            success = success + 1\n",
    "        else:\n",
    "            failure = failure + 1\n",
    "        total = total + 1\n",
    "    accuracy.append(success/total)\n",
    "#finding the average.\n",
    "print(sum(accuracy)/len(accuracy))"
   ]
  },
  {
   "cell_type": "markdown",
   "metadata": {},
   "source": [
    "### 6. Is the NB model doing better than chance? Explain.\n",
    "\n",
    "If the NB model operated based on chance, then presumably, it would work only 0.1 times, as by blindly guessing, there is a 1/10 chance to get it right. The NB model was on average correct 77.85% percent of the time, and thus is doing better than chance."
   ]
  },
  {
   "cell_type": "markdown",
   "metadata": {},
   "source": [
    "### 7. What are the assumptions in NB in the context of this problem? Are the assumptions realistic? Explain.\n",
    "\n",
    "By using a Naive Bayes Model, we assume conditional independence of the factors (weather, location, typeoftrigger). However, this assumption may not be sound, as higher-risk situations (such as on a cloudy day or on the highway) may increase the likelihood of a manual trigger, as the driver may be more nervous."
   ]
  },
  {
   "cell_type": "markdown",
   "metadata": {},
   "source": [
    "### 8. Based on your answer to part 7, comment on whether any improvements can be gained in classification accuracy. If yes, how?\n",
    "\n",
    "In terms of local semantics, I think that in addition to all the factors pointing to the Class, I think that weather and location should also point to type of trigger."
   ]
  },
  {
   "cell_type": "code",
   "execution_count": null,
   "metadata": {},
   "outputs": [],
   "source": []
  },
  {
   "cell_type": "code",
   "execution_count": null,
   "metadata": {},
   "outputs": [],
   "source": []
  }
 ],
 "metadata": {
  "kernelspec": {
   "display_name": "Python 3",
   "language": "python",
   "name": "python3"
  },
  "language_info": {
   "codemirror_mode": {
    "name": "ipython",
    "version": 3
   },
   "file_extension": ".py",
   "mimetype": "text/x-python",
   "name": "python",
   "nbconvert_exporter": "python",
   "pygments_lexer": "ipython3",
   "version": "3.7.4"
  }
 },
 "nbformat": 4,
 "nbformat_minor": 2
}
