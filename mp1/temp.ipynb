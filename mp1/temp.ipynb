{
 "cells": [
  {
   "cell_type": "markdown",
   "metadata": {},
   "source": [
    "$H_0$ : p1 <= p2 <br>\n",
    "$H_A$ : p1 > p2 <br>\n",
    "\n",
    "Where p1 = x1 / n1 <br>\n",
    "\n",
    "Where x1 is the sum of disengagements when cloudy <br>\n",
    "Where n1 is prob_cloudy * total miles driven in autonomous mode <br>\n",
    "\n",
    "Similar logic applies to p2, x2, and n2 where cloudy is replaced with clear\n"
   ]
  },
  {
   "cell_type": "markdown",
   "metadata": {},
   "source": [
    "The null hypothesis is that the two distributions are the same. The alternate hypothesis is that the two distributions are differnt.\n",
    "\n",
    "At a 0.1 significance threshold, I fail to reject the null hypothesis, since the pvalue is 0.68, concluding that based on our data, the two sample distributions are from the same population distribution."
   ]
  },
  {
   "cell_type": "markdown",
   "metadata": {},
   "source": [
    "$H_0$ : D1 == D2 <br>\n",
    "$H_A$ : D1 != D2 <br>\n",
    "\n",
    "Where D1 is distribution of disengagement reaction time when the weather is cloudy <br>\n",
    "Where D2 is distribution of disengagement reaction time when the weather is clear"
   ]
  },
  {
   "cell_type": "code",
   "execution_count": null,
   "metadata": {},
   "outputs": [],
   "source": []
  },
  {
   "cell_type": "code",
   "execution_count": null,
   "metadata": {},
   "outputs": [],
   "source": []
  }
 ],
 "metadata": {
  "kernelspec": {
   "display_name": "Python 3",
   "language": "python",
   "name": "python3"
  },
  "language_info": {
   "codemirror_mode": {
    "name": "ipython",
    "version": 3
   },
   "file_extension": ".py",
   "mimetype": "text/x-python",
   "name": "python",
   "nbconvert_exporter": "python",
   "pygments_lexer": "ipython3",
   "version": "3.7.4"
  }
 },
 "nbformat": 4,
 "nbformat_minor": 2
}
